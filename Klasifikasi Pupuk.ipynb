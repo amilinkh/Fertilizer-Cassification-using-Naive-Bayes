{
 "cells": [
  {
   "cell_type": "code",
   "execution_count": 1,
   "metadata": {},
   "outputs": [],
   "source": [
    "import pandas as pd\n",
    "import numpy as np"
   ]
  },
  {
   "cell_type": "code",
   "execution_count": 2,
   "metadata": {},
   "outputs": [
    {
     "data": {
      "text/html": [
       "<div>\n",
       "<style scoped>\n",
       "    .dataframe tbody tr th:only-of-type {\n",
       "        vertical-align: middle;\n",
       "    }\n",
       "\n",
       "    .dataframe tbody tr th {\n",
       "        vertical-align: top;\n",
       "    }\n",
       "\n",
       "    .dataframe thead th {\n",
       "        text-align: right;\n",
       "    }\n",
       "</style>\n",
       "<table border=\"1\" class=\"dataframe\">\n",
       "  <thead>\n",
       "    <tr style=\"text-align: right;\">\n",
       "      <th></th>\n",
       "      <th>Temparature</th>\n",
       "      <th>Humidity</th>\n",
       "      <th>Moisture</th>\n",
       "      <th>Soil Type</th>\n",
       "      <th>Crop Type</th>\n",
       "      <th>Nitrogen</th>\n",
       "      <th>Potassium</th>\n",
       "      <th>Phosphorous</th>\n",
       "      <th>Fertilizer Name</th>\n",
       "    </tr>\n",
       "  </thead>\n",
       "  <tbody>\n",
       "    <tr>\n",
       "      <th>0</th>\n",
       "      <td>26</td>\n",
       "      <td>52</td>\n",
       "      <td>38</td>\n",
       "      <td>Sandy</td>\n",
       "      <td>Maize</td>\n",
       "      <td>37</td>\n",
       "      <td>0</td>\n",
       "      <td>0</td>\n",
       "      <td>Urea</td>\n",
       "    </tr>\n",
       "    <tr>\n",
       "      <th>1</th>\n",
       "      <td>29</td>\n",
       "      <td>52</td>\n",
       "      <td>45</td>\n",
       "      <td>Loamy</td>\n",
       "      <td>Sugarcane</td>\n",
       "      <td>12</td>\n",
       "      <td>0</td>\n",
       "      <td>36</td>\n",
       "      <td>DAP</td>\n",
       "    </tr>\n",
       "    <tr>\n",
       "      <th>2</th>\n",
       "      <td>34</td>\n",
       "      <td>65</td>\n",
       "      <td>62</td>\n",
       "      <td>Black</td>\n",
       "      <td>Cotton</td>\n",
       "      <td>7</td>\n",
       "      <td>9</td>\n",
       "      <td>30</td>\n",
       "      <td>14-35-14</td>\n",
       "    </tr>\n",
       "    <tr>\n",
       "      <th>3</th>\n",
       "      <td>32</td>\n",
       "      <td>62</td>\n",
       "      <td>34</td>\n",
       "      <td>Red</td>\n",
       "      <td>Tobacco</td>\n",
       "      <td>22</td>\n",
       "      <td>0</td>\n",
       "      <td>20</td>\n",
       "      <td>28-28</td>\n",
       "    </tr>\n",
       "    <tr>\n",
       "      <th>4</th>\n",
       "      <td>28</td>\n",
       "      <td>54</td>\n",
       "      <td>46</td>\n",
       "      <td>Clayey</td>\n",
       "      <td>Paddy</td>\n",
       "      <td>35</td>\n",
       "      <td>0</td>\n",
       "      <td>0</td>\n",
       "      <td>Urea</td>\n",
       "    </tr>\n",
       "  </tbody>\n",
       "</table>\n",
       "</div>"
      ],
      "text/plain": [
       "   Temparature  Humidity   Moisture Soil Type  Crop Type  Nitrogen  Potassium  \\\n",
       "0           26         52        38     Sandy      Maize        37          0   \n",
       "1           29         52        45     Loamy  Sugarcane        12          0   \n",
       "2           34         65        62     Black     Cotton         7          9   \n",
       "3           32         62        34       Red    Tobacco        22          0   \n",
       "4           28         54        46    Clayey      Paddy        35          0   \n",
       "\n",
       "   Phosphorous Fertilizer Name  \n",
       "0            0            Urea  \n",
       "1           36             DAP  \n",
       "2           30        14-35-14  \n",
       "3           20           28-28  \n",
       "4            0            Urea  "
      ]
     },
     "execution_count": 2,
     "metadata": {},
     "output_type": "execute_result"
    }
   ],
   "source": [
    "df = pd.read_csv('Fertilizer Prediction.csv')\n",
    "df.head()"
   ]
  },
  {
   "cell_type": "code",
   "execution_count": 3,
   "metadata": {},
   "outputs": [],
   "source": [
    "drop = df[df.columns[6:8]]"
   ]
  },
  {
   "cell_type": "code",
   "execution_count": 4,
   "metadata": {},
   "outputs": [
    {
     "data": {
      "text/html": [
       "<div>\n",
       "<style scoped>\n",
       "    .dataframe tbody tr th:only-of-type {\n",
       "        vertical-align: middle;\n",
       "    }\n",
       "\n",
       "    .dataframe tbody tr th {\n",
       "        vertical-align: top;\n",
       "    }\n",
       "\n",
       "    .dataframe thead th {\n",
       "        text-align: right;\n",
       "    }\n",
       "</style>\n",
       "<table border=\"1\" class=\"dataframe\">\n",
       "  <thead>\n",
       "    <tr style=\"text-align: right;\">\n",
       "      <th></th>\n",
       "      <th>Potassium</th>\n",
       "      <th>Phosphorous</th>\n",
       "    </tr>\n",
       "  </thead>\n",
       "  <tbody>\n",
       "    <tr>\n",
       "      <th>0</th>\n",
       "      <td>0</td>\n",
       "      <td>0</td>\n",
       "    </tr>\n",
       "    <tr>\n",
       "      <th>1</th>\n",
       "      <td>0</td>\n",
       "      <td>36</td>\n",
       "    </tr>\n",
       "    <tr>\n",
       "      <th>2</th>\n",
       "      <td>9</td>\n",
       "      <td>30</td>\n",
       "    </tr>\n",
       "    <tr>\n",
       "      <th>3</th>\n",
       "      <td>0</td>\n",
       "      <td>20</td>\n",
       "    </tr>\n",
       "    <tr>\n",
       "      <th>4</th>\n",
       "      <td>0</td>\n",
       "      <td>0</td>\n",
       "    </tr>\n",
       "  </tbody>\n",
       "</table>\n",
       "</div>"
      ],
      "text/plain": [
       "   Potassium  Phosphorous\n",
       "0          0            0\n",
       "1          0           36\n",
       "2          9           30\n",
       "3          0           20\n",
       "4          0            0"
      ]
     },
     "execution_count": 4,
     "metadata": {},
     "output_type": "execute_result"
    }
   ],
   "source": [
    "drop.head()"
   ]
  },
  {
   "cell_type": "code",
   "execution_count": 5,
   "metadata": {},
   "outputs": [],
   "source": [
    "df1 = df.drop(drop, axis=1)"
   ]
  },
  {
   "cell_type": "code",
   "execution_count": 6,
   "metadata": {},
   "outputs": [
    {
     "data": {
      "text/html": [
       "<div>\n",
       "<style scoped>\n",
       "    .dataframe tbody tr th:only-of-type {\n",
       "        vertical-align: middle;\n",
       "    }\n",
       "\n",
       "    .dataframe tbody tr th {\n",
       "        vertical-align: top;\n",
       "    }\n",
       "\n",
       "    .dataframe thead th {\n",
       "        text-align: right;\n",
       "    }\n",
       "</style>\n",
       "<table border=\"1\" class=\"dataframe\">\n",
       "  <thead>\n",
       "    <tr style=\"text-align: right;\">\n",
       "      <th></th>\n",
       "      <th>Temparature</th>\n",
       "      <th>Humidity</th>\n",
       "      <th>Moisture</th>\n",
       "      <th>Soil Type</th>\n",
       "      <th>Crop Type</th>\n",
       "      <th>Nitrogen</th>\n",
       "      <th>Fertilizer Name</th>\n",
       "    </tr>\n",
       "  </thead>\n",
       "  <tbody>\n",
       "    <tr>\n",
       "      <th>0</th>\n",
       "      <td>26</td>\n",
       "      <td>52</td>\n",
       "      <td>38</td>\n",
       "      <td>Sandy</td>\n",
       "      <td>Maize</td>\n",
       "      <td>37</td>\n",
       "      <td>Urea</td>\n",
       "    </tr>\n",
       "    <tr>\n",
       "      <th>1</th>\n",
       "      <td>29</td>\n",
       "      <td>52</td>\n",
       "      <td>45</td>\n",
       "      <td>Loamy</td>\n",
       "      <td>Sugarcane</td>\n",
       "      <td>12</td>\n",
       "      <td>DAP</td>\n",
       "    </tr>\n",
       "    <tr>\n",
       "      <th>2</th>\n",
       "      <td>34</td>\n",
       "      <td>65</td>\n",
       "      <td>62</td>\n",
       "      <td>Black</td>\n",
       "      <td>Cotton</td>\n",
       "      <td>7</td>\n",
       "      <td>14-35-14</td>\n",
       "    </tr>\n",
       "    <tr>\n",
       "      <th>3</th>\n",
       "      <td>32</td>\n",
       "      <td>62</td>\n",
       "      <td>34</td>\n",
       "      <td>Red</td>\n",
       "      <td>Tobacco</td>\n",
       "      <td>22</td>\n",
       "      <td>28-28</td>\n",
       "    </tr>\n",
       "    <tr>\n",
       "      <th>4</th>\n",
       "      <td>28</td>\n",
       "      <td>54</td>\n",
       "      <td>46</td>\n",
       "      <td>Clayey</td>\n",
       "      <td>Paddy</td>\n",
       "      <td>35</td>\n",
       "      <td>Urea</td>\n",
       "    </tr>\n",
       "  </tbody>\n",
       "</table>\n",
       "</div>"
      ],
      "text/plain": [
       "   Temparature  Humidity   Moisture Soil Type  Crop Type  Nitrogen  \\\n",
       "0           26         52        38     Sandy      Maize        37   \n",
       "1           29         52        45     Loamy  Sugarcane        12   \n",
       "2           34         65        62     Black     Cotton         7   \n",
       "3           32         62        34       Red    Tobacco        22   \n",
       "4           28         54        46    Clayey      Paddy        35   \n",
       "\n",
       "  Fertilizer Name  \n",
       "0            Urea  \n",
       "1             DAP  \n",
       "2        14-35-14  \n",
       "3           28-28  \n",
       "4            Urea  "
      ]
     },
     "execution_count": 6,
     "metadata": {},
     "output_type": "execute_result"
    }
   ],
   "source": [
    "df1.head()"
   ]
  },
  {
   "cell_type": "code",
   "execution_count": 7,
   "metadata": {},
   "outputs": [
    {
     "data": {
      "text/plain": [
       "['Black', 'Clayey', 'Loamy', 'Red', 'Sandy']"
      ]
     },
     "execution_count": 7,
     "metadata": {},
     "output_type": "execute_result"
    }
   ],
   "source": [
    "soil = list(np.unique(df1['Soil Type']))\n",
    "soil"
   ]
  },
  {
   "cell_type": "code",
   "execution_count": 8,
   "metadata": {},
   "outputs": [
    {
     "data": {
      "text/plain": [
       "['Barley',\n",
       " 'Cotton',\n",
       " 'Ground Nuts',\n",
       " 'Maize',\n",
       " 'Millets',\n",
       " 'Oil seeds',\n",
       " 'Paddy',\n",
       " 'Pulses',\n",
       " 'Sugarcane',\n",
       " 'Tobacco',\n",
       " 'Wheat']"
      ]
     },
     "execution_count": 8,
     "metadata": {},
     "output_type": "execute_result"
    }
   ],
   "source": [
    "crop = list(np.unique(df1['Crop Type']))\n",
    "crop"
   ]
  },
  {
   "cell_type": "code",
   "execution_count": 9,
   "metadata": {},
   "outputs": [],
   "source": [
    "df1['Soil Type'].replace(['Black', 'Clayey', 'Loamy', 'Red', 'Sandy'], [1,2,3,4,5], inplace=True)\n",
    "df1['Crop Type'].replace(['Barley',\n",
    " 'Cotton',\n",
    " 'Ground Nuts',\n",
    " 'Maize',\n",
    " 'Millets',\n",
    " 'Oil seeds',\n",
    " 'Paddy',\n",
    " 'Pulses',\n",
    " 'Sugarcane',\n",
    " 'Tobacco',\n",
    " 'Wheat'], [1,2,3,4,5,6,7,8,9,10,11], inplace=True)"
   ]
  },
  {
   "cell_type": "code",
   "execution_count": 10,
   "metadata": {},
   "outputs": [
    {
     "data": {
      "text/html": [
       "<div>\n",
       "<style scoped>\n",
       "    .dataframe tbody tr th:only-of-type {\n",
       "        vertical-align: middle;\n",
       "    }\n",
       "\n",
       "    .dataframe tbody tr th {\n",
       "        vertical-align: top;\n",
       "    }\n",
       "\n",
       "    .dataframe thead th {\n",
       "        text-align: right;\n",
       "    }\n",
       "</style>\n",
       "<table border=\"1\" class=\"dataframe\">\n",
       "  <thead>\n",
       "    <tr style=\"text-align: right;\">\n",
       "      <th></th>\n",
       "      <th>Temparature</th>\n",
       "      <th>Humidity</th>\n",
       "      <th>Moisture</th>\n",
       "      <th>Soil Type</th>\n",
       "      <th>Crop Type</th>\n",
       "      <th>Nitrogen</th>\n",
       "      <th>Fertilizer Name</th>\n",
       "    </tr>\n",
       "  </thead>\n",
       "  <tbody>\n",
       "    <tr>\n",
       "      <th>0</th>\n",
       "      <td>26</td>\n",
       "      <td>52</td>\n",
       "      <td>38</td>\n",
       "      <td>5</td>\n",
       "      <td>4</td>\n",
       "      <td>37</td>\n",
       "      <td>Urea</td>\n",
       "    </tr>\n",
       "    <tr>\n",
       "      <th>1</th>\n",
       "      <td>29</td>\n",
       "      <td>52</td>\n",
       "      <td>45</td>\n",
       "      <td>3</td>\n",
       "      <td>9</td>\n",
       "      <td>12</td>\n",
       "      <td>DAP</td>\n",
       "    </tr>\n",
       "    <tr>\n",
       "      <th>2</th>\n",
       "      <td>34</td>\n",
       "      <td>65</td>\n",
       "      <td>62</td>\n",
       "      <td>1</td>\n",
       "      <td>2</td>\n",
       "      <td>7</td>\n",
       "      <td>14-35-14</td>\n",
       "    </tr>\n",
       "    <tr>\n",
       "      <th>3</th>\n",
       "      <td>32</td>\n",
       "      <td>62</td>\n",
       "      <td>34</td>\n",
       "      <td>4</td>\n",
       "      <td>10</td>\n",
       "      <td>22</td>\n",
       "      <td>28-28</td>\n",
       "    </tr>\n",
       "    <tr>\n",
       "      <th>4</th>\n",
       "      <td>28</td>\n",
       "      <td>54</td>\n",
       "      <td>46</td>\n",
       "      <td>2</td>\n",
       "      <td>7</td>\n",
       "      <td>35</td>\n",
       "      <td>Urea</td>\n",
       "    </tr>\n",
       "  </tbody>\n",
       "</table>\n",
       "</div>"
      ],
      "text/plain": [
       "   Temparature  Humidity   Moisture  Soil Type  Crop Type  Nitrogen  \\\n",
       "0           26         52        38          5          4        37   \n",
       "1           29         52        45          3          9        12   \n",
       "2           34         65        62          1          2         7   \n",
       "3           32         62        34          4         10        22   \n",
       "4           28         54        46          2          7        35   \n",
       "\n",
       "  Fertilizer Name  \n",
       "0            Urea  \n",
       "1             DAP  \n",
       "2        14-35-14  \n",
       "3           28-28  \n",
       "4            Urea  "
      ]
     },
     "execution_count": 10,
     "metadata": {},
     "output_type": "execute_result"
    }
   ],
   "source": [
    "df1.head()"
   ]
  },
  {
   "cell_type": "code",
   "execution_count": 11,
   "metadata": {},
   "outputs": [],
   "source": [
    "X = df1[df1.columns[:6]]"
   ]
  },
  {
   "cell_type": "code",
   "execution_count": 12,
   "metadata": {},
   "outputs": [],
   "source": [
    "y = df1['Fertilizer Name']"
   ]
  },
  {
   "cell_type": "code",
   "execution_count": 13,
   "metadata": {},
   "outputs": [
    {
     "data": {
      "text/html": [
       "<div>\n",
       "<style scoped>\n",
       "    .dataframe tbody tr th:only-of-type {\n",
       "        vertical-align: middle;\n",
       "    }\n",
       "\n",
       "    .dataframe tbody tr th {\n",
       "        vertical-align: top;\n",
       "    }\n",
       "\n",
       "    .dataframe thead th {\n",
       "        text-align: right;\n",
       "    }\n",
       "</style>\n",
       "<table border=\"1\" class=\"dataframe\">\n",
       "  <thead>\n",
       "    <tr style=\"text-align: right;\">\n",
       "      <th></th>\n",
       "      <th>Temparature</th>\n",
       "      <th>Humidity</th>\n",
       "      <th>Moisture</th>\n",
       "      <th>Soil Type</th>\n",
       "      <th>Crop Type</th>\n",
       "      <th>Nitrogen</th>\n",
       "    </tr>\n",
       "  </thead>\n",
       "  <tbody>\n",
       "    <tr>\n",
       "      <th>0</th>\n",
       "      <td>26</td>\n",
       "      <td>52</td>\n",
       "      <td>38</td>\n",
       "      <td>5</td>\n",
       "      <td>4</td>\n",
       "      <td>37</td>\n",
       "    </tr>\n",
       "    <tr>\n",
       "      <th>1</th>\n",
       "      <td>29</td>\n",
       "      <td>52</td>\n",
       "      <td>45</td>\n",
       "      <td>3</td>\n",
       "      <td>9</td>\n",
       "      <td>12</td>\n",
       "    </tr>\n",
       "    <tr>\n",
       "      <th>2</th>\n",
       "      <td>34</td>\n",
       "      <td>65</td>\n",
       "      <td>62</td>\n",
       "      <td>1</td>\n",
       "      <td>2</td>\n",
       "      <td>7</td>\n",
       "    </tr>\n",
       "    <tr>\n",
       "      <th>3</th>\n",
       "      <td>32</td>\n",
       "      <td>62</td>\n",
       "      <td>34</td>\n",
       "      <td>4</td>\n",
       "      <td>10</td>\n",
       "      <td>22</td>\n",
       "    </tr>\n",
       "    <tr>\n",
       "      <th>4</th>\n",
       "      <td>28</td>\n",
       "      <td>54</td>\n",
       "      <td>46</td>\n",
       "      <td>2</td>\n",
       "      <td>7</td>\n",
       "      <td>35</td>\n",
       "    </tr>\n",
       "  </tbody>\n",
       "</table>\n",
       "</div>"
      ],
      "text/plain": [
       "   Temparature  Humidity   Moisture  Soil Type  Crop Type  Nitrogen\n",
       "0           26         52        38          5          4        37\n",
       "1           29         52        45          3          9        12\n",
       "2           34         65        62          1          2         7\n",
       "3           32         62        34          4         10        22\n",
       "4           28         54        46          2          7        35"
      ]
     },
     "execution_count": 13,
     "metadata": {},
     "output_type": "execute_result"
    }
   ],
   "source": [
    "X.head()"
   ]
  },
  {
   "cell_type": "code",
   "execution_count": 14,
   "metadata": {},
   "outputs": [
    {
     "data": {
      "text/plain": [
       "0        Urea\n",
       "1         DAP\n",
       "2    14-35-14\n",
       "3       28-28\n",
       "4        Urea\n",
       "Name: Fertilizer Name, dtype: object"
      ]
     },
     "execution_count": 14,
     "metadata": {},
     "output_type": "execute_result"
    }
   ],
   "source": [
    "y.head()"
   ]
  },
  {
   "cell_type": "code",
   "execution_count": 15,
   "metadata": {},
   "outputs": [
    {
     "data": {
      "text/plain": [
       "<pandas.core.groupby.generic.DataFrameGroupBy object at 0x000002A0305AF1C8>"
      ]
     },
     "execution_count": 15,
     "metadata": {},
     "output_type": "execute_result"
    }
   ],
   "source": [
    "X.groupby(by=y)"
   ]
  },
  {
   "cell_type": "code",
   "execution_count": 16,
   "metadata": {},
   "outputs": [
    {
     "data": {
      "text/html": [
       "<div>\n",
       "<style scoped>\n",
       "    .dataframe tbody tr th:only-of-type {\n",
       "        vertical-align: middle;\n",
       "    }\n",
       "\n",
       "    .dataframe tbody tr th {\n",
       "        vertical-align: top;\n",
       "    }\n",
       "\n",
       "    .dataframe thead th {\n",
       "        text-align: right;\n",
       "    }\n",
       "</style>\n",
       "<table border=\"1\" class=\"dataframe\">\n",
       "  <thead>\n",
       "    <tr style=\"text-align: right;\">\n",
       "      <th></th>\n",
       "      <th>Temparature</th>\n",
       "      <th>Humidity</th>\n",
       "      <th>Moisture</th>\n",
       "      <th>Soil Type</th>\n",
       "      <th>Crop Type</th>\n",
       "      <th>Nitrogen</th>\n",
       "    </tr>\n",
       "    <tr>\n",
       "      <th>Fertilizer Name</th>\n",
       "      <th></th>\n",
       "      <th></th>\n",
       "      <th></th>\n",
       "      <th></th>\n",
       "      <th></th>\n",
       "      <th></th>\n",
       "    </tr>\n",
       "  </thead>\n",
       "  <tbody>\n",
       "    <tr>\n",
       "      <th>10-26-26</th>\n",
       "      <td>29.714286</td>\n",
       "      <td>58.142857</td>\n",
       "      <td>39.285714</td>\n",
       "      <td>3.142857</td>\n",
       "      <td>7.857143</td>\n",
       "      <td>7.571429</td>\n",
       "    </tr>\n",
       "    <tr>\n",
       "      <th>14-35-14</th>\n",
       "      <td>31.357143</td>\n",
       "      <td>61.142857</td>\n",
       "      <td>45.214286</td>\n",
       "      <td>2.857143</td>\n",
       "      <td>5.571429</td>\n",
       "      <td>8.214286</td>\n",
       "    </tr>\n",
       "    <tr>\n",
       "      <th>17-17-17</th>\n",
       "      <td>29.000000</td>\n",
       "      <td>57.571429</td>\n",
       "      <td>47.142857</td>\n",
       "      <td>3.571429</td>\n",
       "      <td>5.285714</td>\n",
       "      <td>12.142857</td>\n",
       "    </tr>\n",
       "    <tr>\n",
       "      <th>20-20</th>\n",
       "      <td>29.142857</td>\n",
       "      <td>57.571429</td>\n",
       "      <td>45.285714</td>\n",
       "      <td>2.714286</td>\n",
       "      <td>7.071429</td>\n",
       "      <td>11.214286</td>\n",
       "    </tr>\n",
       "    <tr>\n",
       "      <th>28-28</th>\n",
       "      <td>29.529412</td>\n",
       "      <td>58.117647</td>\n",
       "      <td>41.941176</td>\n",
       "      <td>3.352941</td>\n",
       "      <td>6.294118</td>\n",
       "      <td>22.647059</td>\n",
       "    </tr>\n",
       "    <tr>\n",
       "      <th>DAP</th>\n",
       "      <td>31.833333</td>\n",
       "      <td>61.333333</td>\n",
       "      <td>42.611111</td>\n",
       "      <td>3.444444</td>\n",
       "      <td>4.944444</td>\n",
       "      <td>12.944444</td>\n",
       "    </tr>\n",
       "    <tr>\n",
       "      <th>Urea</th>\n",
       "      <td>30.227273</td>\n",
       "      <td>58.727273</td>\n",
       "      <td>41.954545</td>\n",
       "      <td>2.454545</td>\n",
       "      <td>6.545455</td>\n",
       "      <td>38.363636</td>\n",
       "    </tr>\n",
       "  </tbody>\n",
       "</table>\n",
       "</div>"
      ],
      "text/plain": [
       "                 Temparature  Humidity    Moisture  Soil Type  Crop Type  \\\n",
       "Fertilizer Name                                                            \n",
       "10-26-26           29.714286  58.142857  39.285714   3.142857   7.857143   \n",
       "14-35-14           31.357143  61.142857  45.214286   2.857143   5.571429   \n",
       "17-17-17           29.000000  57.571429  47.142857   3.571429   5.285714   \n",
       "20-20              29.142857  57.571429  45.285714   2.714286   7.071429   \n",
       "28-28              29.529412  58.117647  41.941176   3.352941   6.294118   \n",
       "DAP                31.833333  61.333333  42.611111   3.444444   4.944444   \n",
       "Urea               30.227273  58.727273  41.954545   2.454545   6.545455   \n",
       "\n",
       "                  Nitrogen  \n",
       "Fertilizer Name             \n",
       "10-26-26          7.571429  \n",
       "14-35-14          8.214286  \n",
       "17-17-17         12.142857  \n",
       "20-20            11.214286  \n",
       "28-28            22.647059  \n",
       "DAP              12.944444  \n",
       "Urea             38.363636  "
      ]
     },
     "execution_count": 16,
     "metadata": {},
     "output_type": "execute_result"
    }
   ],
   "source": [
    "X.groupby(by=y).mean()"
   ]
  },
  {
   "cell_type": "code",
   "execution_count": 17,
   "metadata": {},
   "outputs": [
    {
     "data": {
      "text/html": [
       "<div>\n",
       "<style scoped>\n",
       "    .dataframe tbody tr th:only-of-type {\n",
       "        vertical-align: middle;\n",
       "    }\n",
       "\n",
       "    .dataframe tbody tr th {\n",
       "        vertical-align: top;\n",
       "    }\n",
       "\n",
       "    .dataframe thead th {\n",
       "        text-align: right;\n",
       "    }\n",
       "</style>\n",
       "<table border=\"1\" class=\"dataframe\">\n",
       "  <thead>\n",
       "    <tr style=\"text-align: right;\">\n",
       "      <th></th>\n",
       "      <th>Temparature</th>\n",
       "      <th>Humidity</th>\n",
       "      <th>Moisture</th>\n",
       "      <th>Soil Type</th>\n",
       "      <th>Crop Type</th>\n",
       "      <th>Nitrogen</th>\n",
       "    </tr>\n",
       "    <tr>\n",
       "      <th>Fertilizer Name</th>\n",
       "      <th></th>\n",
       "      <th></th>\n",
       "      <th></th>\n",
       "      <th></th>\n",
       "      <th></th>\n",
       "      <th></th>\n",
       "    </tr>\n",
       "  </thead>\n",
       "  <tbody>\n",
       "    <tr>\n",
       "      <th>10-26-26</th>\n",
       "      <td>16.238095</td>\n",
       "      <td>44.809524</td>\n",
       "      <td>75.904762</td>\n",
       "      <td>1.476190</td>\n",
       "      <td>11.142857</td>\n",
       "      <td>12.285714</td>\n",
       "    </tr>\n",
       "    <tr>\n",
       "      <th>14-35-14</th>\n",
       "      <td>10.401099</td>\n",
       "      <td>24.593407</td>\n",
       "      <td>187.565934</td>\n",
       "      <td>2.131868</td>\n",
       "      <td>9.802198</td>\n",
       "      <td>1.719780</td>\n",
       "    </tr>\n",
       "    <tr>\n",
       "      <th>17-17-17</th>\n",
       "      <td>13.000000</td>\n",
       "      <td>43.285714</td>\n",
       "      <td>160.476190</td>\n",
       "      <td>1.952381</td>\n",
       "      <td>12.904762</td>\n",
       "      <td>3.142857</td>\n",
       "    </tr>\n",
       "    <tr>\n",
       "      <th>20-20</th>\n",
       "      <td>11.054945</td>\n",
       "      <td>31.340659</td>\n",
       "      <td>140.373626</td>\n",
       "      <td>2.373626</td>\n",
       "      <td>5.609890</td>\n",
       "      <td>3.565934</td>\n",
       "    </tr>\n",
       "    <tr>\n",
       "      <th>28-28</th>\n",
       "      <td>10.389706</td>\n",
       "      <td>29.985294</td>\n",
       "      <td>60.183824</td>\n",
       "      <td>2.117647</td>\n",
       "      <td>11.970588</td>\n",
       "      <td>1.367647</td>\n",
       "    </tr>\n",
       "    <tr>\n",
       "      <th>DAP</th>\n",
       "      <td>12.852941</td>\n",
       "      <td>33.529412</td>\n",
       "      <td>168.016340</td>\n",
       "      <td>1.673203</td>\n",
       "      <td>10.996732</td>\n",
       "      <td>2.408497</td>\n",
       "    </tr>\n",
       "    <tr>\n",
       "      <th>Urea</th>\n",
       "      <td>12.469697</td>\n",
       "      <td>38.779221</td>\n",
       "      <td>121.378788</td>\n",
       "      <td>1.783550</td>\n",
       "      <td>8.164502</td>\n",
       "      <td>5.099567</td>\n",
       "    </tr>\n",
       "  </tbody>\n",
       "</table>\n",
       "</div>"
      ],
      "text/plain": [
       "                 Temparature  Humidity     Moisture  Soil Type  Crop Type  \\\n",
       "Fertilizer Name                                                             \n",
       "10-26-26           16.238095  44.809524   75.904762   1.476190  11.142857   \n",
       "14-35-14           10.401099  24.593407  187.565934   2.131868   9.802198   \n",
       "17-17-17           13.000000  43.285714  160.476190   1.952381  12.904762   \n",
       "20-20              11.054945  31.340659  140.373626   2.373626   5.609890   \n",
       "28-28              10.389706  29.985294   60.183824   2.117647  11.970588   \n",
       "DAP                12.852941  33.529412  168.016340   1.673203  10.996732   \n",
       "Urea               12.469697  38.779221  121.378788   1.783550   8.164502   \n",
       "\n",
       "                  Nitrogen  \n",
       "Fertilizer Name             \n",
       "10-26-26         12.285714  \n",
       "14-35-14          1.719780  \n",
       "17-17-17          3.142857  \n",
       "20-20             3.565934  \n",
       "28-28             1.367647  \n",
       "DAP               2.408497  \n",
       "Urea              5.099567  "
      ]
     },
     "execution_count": 17,
     "metadata": {},
     "output_type": "execute_result"
    }
   ],
   "source": [
    "X.groupby(by=y).var()"
   ]
  },
  {
   "cell_type": "code",
   "execution_count": 18,
   "metadata": {},
   "outputs": [
    {
     "data": {
      "text/html": [
       "<div>\n",
       "<style scoped>\n",
       "    .dataframe tbody tr th:only-of-type {\n",
       "        vertical-align: middle;\n",
       "    }\n",
       "\n",
       "    .dataframe tbody tr th {\n",
       "        vertical-align: top;\n",
       "    }\n",
       "\n",
       "    .dataframe thead th {\n",
       "        text-align: right;\n",
       "    }\n",
       "</style>\n",
       "<table border=\"1\" class=\"dataframe\">\n",
       "  <thead>\n",
       "    <tr style=\"text-align: right;\">\n",
       "      <th></th>\n",
       "      <th>Temparature</th>\n",
       "      <th>Humidity</th>\n",
       "      <th>Moisture</th>\n",
       "      <th>Soil Type</th>\n",
       "      <th>Crop Type</th>\n",
       "      <th>Nitrogen</th>\n",
       "    </tr>\n",
       "    <tr>\n",
       "      <th>Fertilizer Name</th>\n",
       "      <th></th>\n",
       "      <th></th>\n",
       "      <th></th>\n",
       "      <th></th>\n",
       "      <th></th>\n",
       "      <th></th>\n",
       "    </tr>\n",
       "  </thead>\n",
       "  <tbody>\n",
       "    <tr>\n",
       "      <th>10-26-26</th>\n",
       "      <td>4.029652</td>\n",
       "      <td>6.693992</td>\n",
       "      <td>8.712334</td>\n",
       "      <td>1.214986</td>\n",
       "      <td>3.338092</td>\n",
       "      <td>3.505098</td>\n",
       "    </tr>\n",
       "    <tr>\n",
       "      <th>14-35-14</th>\n",
       "      <td>3.225073</td>\n",
       "      <td>4.959174</td>\n",
       "      <td>13.695471</td>\n",
       "      <td>1.460092</td>\n",
       "      <td>3.130846</td>\n",
       "      <td>1.311404</td>\n",
       "    </tr>\n",
       "    <tr>\n",
       "      <th>17-17-17</th>\n",
       "      <td>3.605551</td>\n",
       "      <td>6.579188</td>\n",
       "      <td>12.667920</td>\n",
       "      <td>1.397276</td>\n",
       "      <td>3.592320</td>\n",
       "      <td>1.772811</td>\n",
       "    </tr>\n",
       "    <tr>\n",
       "      <th>20-20</th>\n",
       "      <td>3.324898</td>\n",
       "      <td>5.598273</td>\n",
       "      <td>11.847938</td>\n",
       "      <td>1.540658</td>\n",
       "      <td>2.368521</td>\n",
       "      <td>1.888368</td>\n",
       "    </tr>\n",
       "    <tr>\n",
       "      <th>28-28</th>\n",
       "      <td>3.223307</td>\n",
       "      <td>5.475883</td>\n",
       "      <td>7.757823</td>\n",
       "      <td>1.455214</td>\n",
       "      <td>3.459854</td>\n",
       "      <td>1.169464</td>\n",
       "    </tr>\n",
       "    <tr>\n",
       "      <th>DAP</th>\n",
       "      <td>3.585100</td>\n",
       "      <td>5.790459</td>\n",
       "      <td>12.962112</td>\n",
       "      <td>1.293523</td>\n",
       "      <td>3.316132</td>\n",
       "      <td>1.551933</td>\n",
       "    </tr>\n",
       "    <tr>\n",
       "      <th>Urea</th>\n",
       "      <td>3.531246</td>\n",
       "      <td>6.227296</td>\n",
       "      <td>11.017204</td>\n",
       "      <td>1.335496</td>\n",
       "      <td>2.857359</td>\n",
       "      <td>2.258222</td>\n",
       "    </tr>\n",
       "  </tbody>\n",
       "</table>\n",
       "</div>"
      ],
      "text/plain": [
       "                 Temparature  Humidity    Moisture  Soil Type  Crop Type  \\\n",
       "Fertilizer Name                                                            \n",
       "10-26-26            4.029652   6.693992   8.712334   1.214986   3.338092   \n",
       "14-35-14            3.225073   4.959174  13.695471   1.460092   3.130846   \n",
       "17-17-17            3.605551   6.579188  12.667920   1.397276   3.592320   \n",
       "20-20               3.324898   5.598273  11.847938   1.540658   2.368521   \n",
       "28-28               3.223307   5.475883   7.757823   1.455214   3.459854   \n",
       "DAP                 3.585100   5.790459  12.962112   1.293523   3.316132   \n",
       "Urea                3.531246   6.227296  11.017204   1.335496   2.857359   \n",
       "\n",
       "                 Nitrogen  \n",
       "Fertilizer Name            \n",
       "10-26-26         3.505098  \n",
       "14-35-14         1.311404  \n",
       "17-17-17         1.772811  \n",
       "20-20            1.888368  \n",
       "28-28            1.169464  \n",
       "DAP              1.551933  \n",
       "Urea             2.258222  "
      ]
     },
     "execution_count": 18,
     "metadata": {},
     "output_type": "execute_result"
    }
   ],
   "source": [
    "X.groupby(by=y).std()"
   ]
  },
  {
   "cell_type": "code",
   "execution_count": 19,
   "metadata": {},
   "outputs": [],
   "source": [
    "def fit(X, y):\n",
    "    mean = X.groupby(by=y).mean()\n",
    "    var = X.groupby(by=y).var()\n",
    "    std = X.groupby(by=y).std()\n",
    "    return mean, var, std"
   ]
  },
  {
   "cell_type": "code",
   "execution_count": 20,
   "metadata": {},
   "outputs": [],
   "source": [
    "mean, var, std = fit(X, y)"
   ]
  },
  {
   "cell_type": "code",
   "execution_count": 21,
   "metadata": {},
   "outputs": [
    {
     "data": {
      "text/html": [
       "<div>\n",
       "<style scoped>\n",
       "    .dataframe tbody tr th:only-of-type {\n",
       "        vertical-align: middle;\n",
       "    }\n",
       "\n",
       "    .dataframe tbody tr th {\n",
       "        vertical-align: top;\n",
       "    }\n",
       "\n",
       "    .dataframe thead th {\n",
       "        text-align: right;\n",
       "    }\n",
       "</style>\n",
       "<table border=\"1\" class=\"dataframe\">\n",
       "  <thead>\n",
       "    <tr style=\"text-align: right;\">\n",
       "      <th></th>\n",
       "      <th>Temparature</th>\n",
       "      <th>Humidity</th>\n",
       "      <th>Moisture</th>\n",
       "      <th>Soil Type</th>\n",
       "      <th>Crop Type</th>\n",
       "      <th>Nitrogen</th>\n",
       "    </tr>\n",
       "    <tr>\n",
       "      <th>Fertilizer Name</th>\n",
       "      <th></th>\n",
       "      <th></th>\n",
       "      <th></th>\n",
       "      <th></th>\n",
       "      <th></th>\n",
       "      <th></th>\n",
       "    </tr>\n",
       "  </thead>\n",
       "  <tbody>\n",
       "    <tr>\n",
       "      <th>10-26-26</th>\n",
       "      <td>29.714286</td>\n",
       "      <td>58.142857</td>\n",
       "      <td>39.285714</td>\n",
       "      <td>3.142857</td>\n",
       "      <td>7.857143</td>\n",
       "      <td>7.571429</td>\n",
       "    </tr>\n",
       "    <tr>\n",
       "      <th>14-35-14</th>\n",
       "      <td>31.357143</td>\n",
       "      <td>61.142857</td>\n",
       "      <td>45.214286</td>\n",
       "      <td>2.857143</td>\n",
       "      <td>5.571429</td>\n",
       "      <td>8.214286</td>\n",
       "    </tr>\n",
       "    <tr>\n",
       "      <th>17-17-17</th>\n",
       "      <td>29.000000</td>\n",
       "      <td>57.571429</td>\n",
       "      <td>47.142857</td>\n",
       "      <td>3.571429</td>\n",
       "      <td>5.285714</td>\n",
       "      <td>12.142857</td>\n",
       "    </tr>\n",
       "    <tr>\n",
       "      <th>20-20</th>\n",
       "      <td>29.142857</td>\n",
       "      <td>57.571429</td>\n",
       "      <td>45.285714</td>\n",
       "      <td>2.714286</td>\n",
       "      <td>7.071429</td>\n",
       "      <td>11.214286</td>\n",
       "    </tr>\n",
       "    <tr>\n",
       "      <th>28-28</th>\n",
       "      <td>29.529412</td>\n",
       "      <td>58.117647</td>\n",
       "      <td>41.941176</td>\n",
       "      <td>3.352941</td>\n",
       "      <td>6.294118</td>\n",
       "      <td>22.647059</td>\n",
       "    </tr>\n",
       "    <tr>\n",
       "      <th>DAP</th>\n",
       "      <td>31.833333</td>\n",
       "      <td>61.333333</td>\n",
       "      <td>42.611111</td>\n",
       "      <td>3.444444</td>\n",
       "      <td>4.944444</td>\n",
       "      <td>12.944444</td>\n",
       "    </tr>\n",
       "    <tr>\n",
       "      <th>Urea</th>\n",
       "      <td>30.227273</td>\n",
       "      <td>58.727273</td>\n",
       "      <td>41.954545</td>\n",
       "      <td>2.454545</td>\n",
       "      <td>6.545455</td>\n",
       "      <td>38.363636</td>\n",
       "    </tr>\n",
       "  </tbody>\n",
       "</table>\n",
       "</div>"
      ],
      "text/plain": [
       "                 Temparature  Humidity    Moisture  Soil Type  Crop Type  \\\n",
       "Fertilizer Name                                                            \n",
       "10-26-26           29.714286  58.142857  39.285714   3.142857   7.857143   \n",
       "14-35-14           31.357143  61.142857  45.214286   2.857143   5.571429   \n",
       "17-17-17           29.000000  57.571429  47.142857   3.571429   5.285714   \n",
       "20-20              29.142857  57.571429  45.285714   2.714286   7.071429   \n",
       "28-28              29.529412  58.117647  41.941176   3.352941   6.294118   \n",
       "DAP                31.833333  61.333333  42.611111   3.444444   4.944444   \n",
       "Urea               30.227273  58.727273  41.954545   2.454545   6.545455   \n",
       "\n",
       "                  Nitrogen  \n",
       "Fertilizer Name             \n",
       "10-26-26          7.571429  \n",
       "14-35-14          8.214286  \n",
       "17-17-17         12.142857  \n",
       "20-20            11.214286  \n",
       "28-28            22.647059  \n",
       "DAP              12.944444  \n",
       "Urea             38.363636  "
      ]
     },
     "execution_count": 21,
     "metadata": {},
     "output_type": "execute_result"
    }
   ],
   "source": [
    "mean"
   ]
  },
  {
   "cell_type": "code",
   "execution_count": 22,
   "metadata": {},
   "outputs": [
    {
     "data": {
      "text/html": [
       "<div>\n",
       "<style scoped>\n",
       "    .dataframe tbody tr th:only-of-type {\n",
       "        vertical-align: middle;\n",
       "    }\n",
       "\n",
       "    .dataframe tbody tr th {\n",
       "        vertical-align: top;\n",
       "    }\n",
       "\n",
       "    .dataframe thead th {\n",
       "        text-align: right;\n",
       "    }\n",
       "</style>\n",
       "<table border=\"1\" class=\"dataframe\">\n",
       "  <thead>\n",
       "    <tr style=\"text-align: right;\">\n",
       "      <th></th>\n",
       "      <th>Temparature</th>\n",
       "      <th>Humidity</th>\n",
       "      <th>Moisture</th>\n",
       "      <th>Soil Type</th>\n",
       "      <th>Crop Type</th>\n",
       "      <th>Nitrogen</th>\n",
       "    </tr>\n",
       "    <tr>\n",
       "      <th>Fertilizer Name</th>\n",
       "      <th></th>\n",
       "      <th></th>\n",
       "      <th></th>\n",
       "      <th></th>\n",
       "      <th></th>\n",
       "      <th></th>\n",
       "    </tr>\n",
       "  </thead>\n",
       "  <tbody>\n",
       "    <tr>\n",
       "      <th>10-26-26</th>\n",
       "      <td>4.029652</td>\n",
       "      <td>6.693992</td>\n",
       "      <td>8.712334</td>\n",
       "      <td>1.214986</td>\n",
       "      <td>3.338092</td>\n",
       "      <td>3.505098</td>\n",
       "    </tr>\n",
       "    <tr>\n",
       "      <th>14-35-14</th>\n",
       "      <td>3.225073</td>\n",
       "      <td>4.959174</td>\n",
       "      <td>13.695471</td>\n",
       "      <td>1.460092</td>\n",
       "      <td>3.130846</td>\n",
       "      <td>1.311404</td>\n",
       "    </tr>\n",
       "    <tr>\n",
       "      <th>17-17-17</th>\n",
       "      <td>3.605551</td>\n",
       "      <td>6.579188</td>\n",
       "      <td>12.667920</td>\n",
       "      <td>1.397276</td>\n",
       "      <td>3.592320</td>\n",
       "      <td>1.772811</td>\n",
       "    </tr>\n",
       "    <tr>\n",
       "      <th>20-20</th>\n",
       "      <td>3.324898</td>\n",
       "      <td>5.598273</td>\n",
       "      <td>11.847938</td>\n",
       "      <td>1.540658</td>\n",
       "      <td>2.368521</td>\n",
       "      <td>1.888368</td>\n",
       "    </tr>\n",
       "    <tr>\n",
       "      <th>28-28</th>\n",
       "      <td>3.223307</td>\n",
       "      <td>5.475883</td>\n",
       "      <td>7.757823</td>\n",
       "      <td>1.455214</td>\n",
       "      <td>3.459854</td>\n",
       "      <td>1.169464</td>\n",
       "    </tr>\n",
       "    <tr>\n",
       "      <th>DAP</th>\n",
       "      <td>3.585100</td>\n",
       "      <td>5.790459</td>\n",
       "      <td>12.962112</td>\n",
       "      <td>1.293523</td>\n",
       "      <td>3.316132</td>\n",
       "      <td>1.551933</td>\n",
       "    </tr>\n",
       "    <tr>\n",
       "      <th>Urea</th>\n",
       "      <td>3.531246</td>\n",
       "      <td>6.227296</td>\n",
       "      <td>11.017204</td>\n",
       "      <td>1.335496</td>\n",
       "      <td>2.857359</td>\n",
       "      <td>2.258222</td>\n",
       "    </tr>\n",
       "  </tbody>\n",
       "</table>\n",
       "</div>"
      ],
      "text/plain": [
       "                 Temparature  Humidity    Moisture  Soil Type  Crop Type  \\\n",
       "Fertilizer Name                                                            \n",
       "10-26-26            4.029652   6.693992   8.712334   1.214986   3.338092   \n",
       "14-35-14            3.225073   4.959174  13.695471   1.460092   3.130846   \n",
       "17-17-17            3.605551   6.579188  12.667920   1.397276   3.592320   \n",
       "20-20               3.324898   5.598273  11.847938   1.540658   2.368521   \n",
       "28-28               3.223307   5.475883   7.757823   1.455214   3.459854   \n",
       "DAP                 3.585100   5.790459  12.962112   1.293523   3.316132   \n",
       "Urea                3.531246   6.227296  11.017204   1.335496   2.857359   \n",
       "\n",
       "                 Nitrogen  \n",
       "Fertilizer Name            \n",
       "10-26-26         3.505098  \n",
       "14-35-14         1.311404  \n",
       "17-17-17         1.772811  \n",
       "20-20            1.888368  \n",
       "28-28            1.169464  \n",
       "DAP              1.551933  \n",
       "Urea             2.258222  "
      ]
     },
     "execution_count": 22,
     "metadata": {},
     "output_type": "execute_result"
    }
   ],
   "source": [
    "std"
   ]
  },
  {
   "cell_type": "code",
   "execution_count": 23,
   "metadata": {},
   "outputs": [
    {
     "data": {
      "text/html": [
       "<div>\n",
       "<style scoped>\n",
       "    .dataframe tbody tr th:only-of-type {\n",
       "        vertical-align: middle;\n",
       "    }\n",
       "\n",
       "    .dataframe tbody tr th {\n",
       "        vertical-align: top;\n",
       "    }\n",
       "\n",
       "    .dataframe thead th {\n",
       "        text-align: right;\n",
       "    }\n",
       "</style>\n",
       "<table border=\"1\" class=\"dataframe\">\n",
       "  <thead>\n",
       "    <tr style=\"text-align: right;\">\n",
       "      <th></th>\n",
       "      <th>Temparature</th>\n",
       "      <th>Humidity</th>\n",
       "      <th>Moisture</th>\n",
       "      <th>Soil Type</th>\n",
       "      <th>Crop Type</th>\n",
       "      <th>Nitrogen</th>\n",
       "    </tr>\n",
       "    <tr>\n",
       "      <th>Fertilizer Name</th>\n",
       "      <th></th>\n",
       "      <th></th>\n",
       "      <th></th>\n",
       "      <th></th>\n",
       "      <th></th>\n",
       "      <th></th>\n",
       "    </tr>\n",
       "  </thead>\n",
       "  <tbody>\n",
       "    <tr>\n",
       "      <th>10-26-26</th>\n",
       "      <td>16.238095</td>\n",
       "      <td>44.809524</td>\n",
       "      <td>75.904762</td>\n",
       "      <td>1.476190</td>\n",
       "      <td>11.142857</td>\n",
       "      <td>12.285714</td>\n",
       "    </tr>\n",
       "    <tr>\n",
       "      <th>14-35-14</th>\n",
       "      <td>10.401099</td>\n",
       "      <td>24.593407</td>\n",
       "      <td>187.565934</td>\n",
       "      <td>2.131868</td>\n",
       "      <td>9.802198</td>\n",
       "      <td>1.719780</td>\n",
       "    </tr>\n",
       "    <tr>\n",
       "      <th>17-17-17</th>\n",
       "      <td>13.000000</td>\n",
       "      <td>43.285714</td>\n",
       "      <td>160.476190</td>\n",
       "      <td>1.952381</td>\n",
       "      <td>12.904762</td>\n",
       "      <td>3.142857</td>\n",
       "    </tr>\n",
       "    <tr>\n",
       "      <th>20-20</th>\n",
       "      <td>11.054945</td>\n",
       "      <td>31.340659</td>\n",
       "      <td>140.373626</td>\n",
       "      <td>2.373626</td>\n",
       "      <td>5.609890</td>\n",
       "      <td>3.565934</td>\n",
       "    </tr>\n",
       "    <tr>\n",
       "      <th>28-28</th>\n",
       "      <td>10.389706</td>\n",
       "      <td>29.985294</td>\n",
       "      <td>60.183824</td>\n",
       "      <td>2.117647</td>\n",
       "      <td>11.970588</td>\n",
       "      <td>1.367647</td>\n",
       "    </tr>\n",
       "    <tr>\n",
       "      <th>DAP</th>\n",
       "      <td>12.852941</td>\n",
       "      <td>33.529412</td>\n",
       "      <td>168.016340</td>\n",
       "      <td>1.673203</td>\n",
       "      <td>10.996732</td>\n",
       "      <td>2.408497</td>\n",
       "    </tr>\n",
       "    <tr>\n",
       "      <th>Urea</th>\n",
       "      <td>12.469697</td>\n",
       "      <td>38.779221</td>\n",
       "      <td>121.378788</td>\n",
       "      <td>1.783550</td>\n",
       "      <td>8.164502</td>\n",
       "      <td>5.099567</td>\n",
       "    </tr>\n",
       "  </tbody>\n",
       "</table>\n",
       "</div>"
      ],
      "text/plain": [
       "                 Temparature  Humidity     Moisture  Soil Type  Crop Type  \\\n",
       "Fertilizer Name                                                             \n",
       "10-26-26           16.238095  44.809524   75.904762   1.476190  11.142857   \n",
       "14-35-14           10.401099  24.593407  187.565934   2.131868   9.802198   \n",
       "17-17-17           13.000000  43.285714  160.476190   1.952381  12.904762   \n",
       "20-20              11.054945  31.340659  140.373626   2.373626   5.609890   \n",
       "28-28              10.389706  29.985294   60.183824   2.117647  11.970588   \n",
       "DAP                12.852941  33.529412  168.016340   1.673203  10.996732   \n",
       "Urea               12.469697  38.779221  121.378788   1.783550   8.164502   \n",
       "\n",
       "                  Nitrogen  \n",
       "Fertilizer Name             \n",
       "10-26-26         12.285714  \n",
       "14-35-14          1.719780  \n",
       "17-17-17          3.142857  \n",
       "20-20             3.565934  \n",
       "28-28             1.367647  \n",
       "DAP               2.408497  \n",
       "Urea              5.099567  "
      ]
     },
     "execution_count": 23,
     "metadata": {},
     "output_type": "execute_result"
    }
   ],
   "source": [
    "var"
   ]
  },
  {
   "cell_type": "code",
   "execution_count": 24,
   "metadata": {},
   "outputs": [],
   "source": [
    "m = np.array(mean)\n",
    "v = np.array(var)\n",
    "std2 = np.array(std)"
   ]
  },
  {
   "cell_type": "code",
   "execution_count": 25,
   "metadata": {},
   "outputs": [
    {
     "data": {
      "text/plain": [
       "array([[29.71428571, 58.14285714, 39.28571429,  3.14285714,  7.85714286,\n",
       "         7.57142857],\n",
       "       [31.35714286, 61.14285714, 45.21428571,  2.85714286,  5.57142857,\n",
       "         8.21428571],\n",
       "       [29.        , 57.57142857, 47.14285714,  3.57142857,  5.28571429,\n",
       "        12.14285714],\n",
       "       [29.14285714, 57.57142857, 45.28571429,  2.71428571,  7.07142857,\n",
       "        11.21428571],\n",
       "       [29.52941176, 58.11764706, 41.94117647,  3.35294118,  6.29411765,\n",
       "        22.64705882],\n",
       "       [31.83333333, 61.33333333, 42.61111111,  3.44444444,  4.94444444,\n",
       "        12.94444444],\n",
       "       [30.22727273, 58.72727273, 41.95454545,  2.45454545,  6.54545455,\n",
       "        38.36363636]])"
      ]
     },
     "execution_count": 25,
     "metadata": {},
     "output_type": "execute_result"
    }
   ],
   "source": [
    "m"
   ]
  },
  {
   "cell_type": "code",
   "execution_count": 26,
   "metadata": {},
   "outputs": [
    {
     "data": {
      "text/plain": [
       "array([[ 16.23809524,  44.80952381,  75.9047619 ,   1.47619048,\n",
       "         11.14285714,  12.28571429],\n",
       "       [ 10.4010989 ,  24.59340659, 187.56593407,   2.13186813,\n",
       "          9.8021978 ,   1.71978022],\n",
       "       [ 13.        ,  43.28571429, 160.47619048,   1.95238095,\n",
       "         12.9047619 ,   3.14285714],\n",
       "       [ 11.05494505,  31.34065934, 140.37362637,   2.37362637,\n",
       "          5.60989011,   3.56593407],\n",
       "       [ 10.38970588,  29.98529412,  60.18382353,   2.11764706,\n",
       "         11.97058824,   1.36764706],\n",
       "       [ 12.85294118,  33.52941176, 168.01633987,   1.67320261,\n",
       "         10.99673203,   2.40849673],\n",
       "       [ 12.46969697,  38.77922078, 121.37878788,   1.78354978,\n",
       "          8.16450216,   5.0995671 ]])"
      ]
     },
     "execution_count": 26,
     "metadata": {},
     "output_type": "execute_result"
    }
   ],
   "source": [
    "v"
   ]
  },
  {
   "cell_type": "code",
   "execution_count": 27,
   "metadata": {},
   "outputs": [
    {
     "data": {
      "text/plain": [
       "array([[ 4.029652  ,  6.69399162,  8.7123339 ,  1.21498579,  3.33809184,\n",
       "         3.50509833],\n",
       "       [ 3.22507347,  4.95917398, 13.6954713 ,  1.46009182,  3.13084618,\n",
       "         1.31140391],\n",
       "       [ 3.60555128,  6.57918797, 12.66791974,  1.39727626,  3.59231985,\n",
       "         1.77281052],\n",
       "       [ 3.32489775,  5.59827289, 11.84793764,  1.54065777,  2.36852066,\n",
       "         1.8883681 ],\n",
       "       [ 3.22330667,  5.47588295,  7.75782338,  1.45521375,  3.45985379,\n",
       "         1.16946443],\n",
       "       [ 3.58509988,  5.79045868, 12.96211171,  1.29352333,  3.31613209,\n",
       "         1.55193322],\n",
       "       [ 3.53124581,  6.22729643, 11.01720418,  1.33549608,  2.8573593 ,\n",
       "         2.25822211]])"
      ]
     },
     "execution_count": 27,
     "metadata": {},
     "output_type": "execute_result"
    }
   ],
   "source": [
    "std2"
   ]
  },
  {
   "cell_type": "code",
   "execution_count": 28,
   "metadata": {},
   "outputs": [
    {
     "name": "stdout",
     "output_type": "stream",
     "text": [
      "mean: 29.714285714285715, var: 16.238095238095234\n",
      "mean: 58.142857142857146, var: 44.80952380952382\n",
      "mean: 39.285714285714285, var: 75.90476190476191\n",
      "mean: 3.142857142857143, var: 1.4761904761904763\n",
      "mean: 7.857142857142857, var: 11.142857142857144\n",
      "mean: 7.571428571428571, var: 12.285714285714285\n",
      "mean: 31.357142857142858, var: 10.401098901098909\n",
      "mean: 61.142857142857146, var: 24.5934065934066\n",
      "mean: 45.214285714285715, var: 187.56593406593404\n",
      "mean: 2.857142857142857, var: 2.131868131868132\n",
      "mean: 5.571428571428571, var: 9.802197802197801\n",
      "mean: 8.214285714285714, var: 1.71978021978022\n",
      "mean: 29.0, var: 12.999999999999998\n",
      "mean: 57.57142857142857, var: 43.285714285714306\n",
      "mean: 47.142857142857146, var: 160.47619047619045\n",
      "mean: 3.5714285714285716, var: 1.9523809523809526\n",
      "mean: 5.285714285714286, var: 12.904761904761907\n",
      "mean: 12.142857142857142, var: 3.1428571428571423\n",
      "mean: 29.142857142857142, var: 11.054945054945053\n",
      "mean: 57.57142857142857, var: 31.34065934065935\n",
      "mean: 45.285714285714285, var: 140.37362637362642\n",
      "mean: 2.7142857142857144, var: 2.3736263736263736\n",
      "mean: 7.071428571428571, var: 5.609890109890109\n",
      "mean: 11.214285714285714, var: 3.5659340659340653\n",
      "mean: 29.529411764705884, var: 10.38970588235294\n",
      "mean: 58.11764705882353, var: 29.98529411764705\n",
      "mean: 41.94117647058823, var: 60.18382352941175\n",
      "mean: 3.3529411764705883, var: 2.1176470588235294\n",
      "mean: 6.294117647058823, var: 11.970588235294116\n",
      "mean: 22.647058823529413, var: 1.3676470588235292\n",
      "mean: 31.833333333333332, var: 12.85294117647059\n",
      "mean: 61.333333333333336, var: 33.52941176470588\n",
      "mean: 42.611111111111114, var: 168.01633986928113\n",
      "mean: 3.4444444444444446, var: 1.6732026143790846\n",
      "mean: 4.944444444444445, var: 10.996732026143789\n",
      "mean: 12.944444444444445, var: 2.4084967320261446\n",
      "mean: 30.227272727272727, var: 12.469696969696976\n",
      "mean: 58.72727272727273, var: 38.779220779220786\n",
      "mean: 41.95454545454545, var: 121.37878787878786\n",
      "mean: 2.4545454545454546, var: 1.7835497835497838\n",
      "mean: 6.545454545454546, var: 8.164502164502164\n",
      "mean: 38.36363636363637, var: 5.099567099567109\n"
     ]
    }
   ],
   "source": [
    "#looping mean and var\n",
    "\n",
    "for i in range(len(m)):\n",
    "    m_row = m[i] #the first row the next row of mean\n",
    "    v_row = v[i] #the first row of variance\n",
    "    for index, value in enumerate(m_row):\n",
    "        mean = value\n",
    "        var = v_row[index]\n",
    "        print(f'mean: {mean}, var: {var}')"
   ]
  },
  {
   "cell_type": "code",
   "execution_count": 29,
   "metadata": {},
   "outputs": [],
   "source": [
    "mean_var = []\n",
    "\n",
    "for i in range(len(m)):\n",
    "    m_row = m[i]\n",
    "    v_row = v[i]\n",
    "    for index, value in enumerate(m_row):\n",
    "        mean = value\n",
    "        var = v_row[index]\n",
    "        mean_var.append([mean, var])"
   ]
  },
  {
   "cell_type": "code",
   "execution_count": 30,
   "metadata": {},
   "outputs": [
    {
     "data": {
      "text/plain": [
       "[[29.714285714285715, 16.238095238095234],\n",
       " [58.142857142857146, 44.80952380952382],\n",
       " [39.285714285714285, 75.90476190476191],\n",
       " [3.142857142857143, 1.4761904761904763],\n",
       " [7.857142857142857, 11.142857142857144],\n",
       " [7.571428571428571, 12.285714285714285],\n",
       " [31.357142857142858, 10.401098901098909],\n",
       " [61.142857142857146, 24.5934065934066],\n",
       " [45.214285714285715, 187.56593406593404],\n",
       " [2.857142857142857, 2.131868131868132],\n",
       " [5.571428571428571, 9.802197802197801],\n",
       " [8.214285714285714, 1.71978021978022],\n",
       " [29.0, 12.999999999999998],\n",
       " [57.57142857142857, 43.285714285714306],\n",
       " [47.142857142857146, 160.47619047619045],\n",
       " [3.5714285714285716, 1.9523809523809526],\n",
       " [5.285714285714286, 12.904761904761907],\n",
       " [12.142857142857142, 3.1428571428571423],\n",
       " [29.142857142857142, 11.054945054945053],\n",
       " [57.57142857142857, 31.34065934065935],\n",
       " [45.285714285714285, 140.37362637362642],\n",
       " [2.7142857142857144, 2.3736263736263736],\n",
       " [7.071428571428571, 5.609890109890109],\n",
       " [11.214285714285714, 3.5659340659340653],\n",
       " [29.529411764705884, 10.38970588235294],\n",
       " [58.11764705882353, 29.98529411764705],\n",
       " [41.94117647058823, 60.18382352941175],\n",
       " [3.3529411764705883, 2.1176470588235294],\n",
       " [6.294117647058823, 11.970588235294116],\n",
       " [22.647058823529413, 1.3676470588235292],\n",
       " [31.833333333333332, 12.85294117647059],\n",
       " [61.333333333333336, 33.52941176470588],\n",
       " [42.611111111111114, 168.01633986928113],\n",
       " [3.4444444444444446, 1.6732026143790846],\n",
       " [4.944444444444445, 10.996732026143789],\n",
       " [12.944444444444445, 2.4084967320261446],\n",
       " [30.227272727272727, 12.469696969696976],\n",
       " [58.72727272727273, 38.779220779220786],\n",
       " [41.95454545454545, 121.37878787878786],\n",
       " [2.4545454545454546, 1.7835497835497838],\n",
       " [6.545454545454546, 8.164502164502164],\n",
       " [38.36363636363637, 5.099567099567109]]"
      ]
     },
     "execution_count": 30,
     "metadata": {},
     "output_type": "execute_result"
    }
   ],
   "source": [
    "mean_var"
   ]
  },
  {
   "cell_type": "code",
   "execution_count": 31,
   "metadata": {},
   "outputs": [
    {
     "data": {
      "text/plain": [
       "array([[ 29.71428571,  16.23809524],\n",
       "       [ 58.14285714,  44.80952381],\n",
       "       [ 39.28571429,  75.9047619 ],\n",
       "       [  3.14285714,   1.47619048],\n",
       "       [  7.85714286,  11.14285714],\n",
       "       [  7.57142857,  12.28571429],\n",
       "       [ 31.35714286,  10.4010989 ],\n",
       "       [ 61.14285714,  24.59340659],\n",
       "       [ 45.21428571, 187.56593407],\n",
       "       [  2.85714286,   2.13186813],\n",
       "       [  5.57142857,   9.8021978 ],\n",
       "       [  8.21428571,   1.71978022],\n",
       "       [ 29.        ,  13.        ],\n",
       "       [ 57.57142857,  43.28571429],\n",
       "       [ 47.14285714, 160.47619048],\n",
       "       [  3.57142857,   1.95238095],\n",
       "       [  5.28571429,  12.9047619 ],\n",
       "       [ 12.14285714,   3.14285714],\n",
       "       [ 29.14285714,  11.05494505],\n",
       "       [ 57.57142857,  31.34065934],\n",
       "       [ 45.28571429, 140.37362637],\n",
       "       [  2.71428571,   2.37362637],\n",
       "       [  7.07142857,   5.60989011],\n",
       "       [ 11.21428571,   3.56593407],\n",
       "       [ 29.52941176,  10.38970588],\n",
       "       [ 58.11764706,  29.98529412],\n",
       "       [ 41.94117647,  60.18382353],\n",
       "       [  3.35294118,   2.11764706],\n",
       "       [  6.29411765,  11.97058824],\n",
       "       [ 22.64705882,   1.36764706],\n",
       "       [ 31.83333333,  12.85294118],\n",
       "       [ 61.33333333,  33.52941176],\n",
       "       [ 42.61111111, 168.01633987],\n",
       "       [  3.44444444,   1.67320261],\n",
       "       [  4.94444444,  10.99673203],\n",
       "       [ 12.94444444,   2.40849673],\n",
       "       [ 30.22727273,  12.46969697],\n",
       "       [ 58.72727273,  38.77922078],\n",
       "       [ 41.95454545, 121.37878788],\n",
       "       [  2.45454545,   1.78354978],\n",
       "       [  6.54545455,   8.16450216],\n",
       "       [ 38.36363636,   5.0995671 ]])"
      ]
     },
     "execution_count": 31,
     "metadata": {},
     "output_type": "execute_result"
    }
   ],
   "source": [
    "#splitting lists into various classes\n",
    "mean_var2 = np.array(mean_var)\n",
    "mean_var2"
   ]
  },
  {
   "cell_type": "code",
   "execution_count": 32,
   "metadata": {},
   "outputs": [
    {
     "data": {
      "text/plain": [
       "7"
      ]
     },
     "execution_count": 32,
     "metadata": {},
     "output_type": "execute_result"
    }
   ],
   "source": [
    "n_class = len(np.unique(y))\n",
    "n_class"
   ]
  },
  {
   "cell_type": "code",
   "execution_count": 33,
   "metadata": {},
   "outputs": [
    {
     "data": {
      "text/plain": [
       "[array([[29.71428571, 16.23809524],\n",
       "        [58.14285714, 44.80952381],\n",
       "        [39.28571429, 75.9047619 ],\n",
       "        [ 3.14285714,  1.47619048],\n",
       "        [ 7.85714286, 11.14285714],\n",
       "        [ 7.57142857, 12.28571429]]),\n",
       " array([[ 31.35714286,  10.4010989 ],\n",
       "        [ 61.14285714,  24.59340659],\n",
       "        [ 45.21428571, 187.56593407],\n",
       "        [  2.85714286,   2.13186813],\n",
       "        [  5.57142857,   9.8021978 ],\n",
       "        [  8.21428571,   1.71978022]]),\n",
       " array([[ 29.        ,  13.        ],\n",
       "        [ 57.57142857,  43.28571429],\n",
       "        [ 47.14285714, 160.47619048],\n",
       "        [  3.57142857,   1.95238095],\n",
       "        [  5.28571429,  12.9047619 ],\n",
       "        [ 12.14285714,   3.14285714]]),\n",
       " array([[ 29.14285714,  11.05494505],\n",
       "        [ 57.57142857,  31.34065934],\n",
       "        [ 45.28571429, 140.37362637],\n",
       "        [  2.71428571,   2.37362637],\n",
       "        [  7.07142857,   5.60989011],\n",
       "        [ 11.21428571,   3.56593407]]),\n",
       " array([[29.52941176, 10.38970588],\n",
       "        [58.11764706, 29.98529412],\n",
       "        [41.94117647, 60.18382353],\n",
       "        [ 3.35294118,  2.11764706],\n",
       "        [ 6.29411765, 11.97058824],\n",
       "        [22.64705882,  1.36764706]]),\n",
       " array([[ 31.83333333,  12.85294118],\n",
       "        [ 61.33333333,  33.52941176],\n",
       "        [ 42.61111111, 168.01633987],\n",
       "        [  3.44444444,   1.67320261],\n",
       "        [  4.94444444,  10.99673203],\n",
       "        [ 12.94444444,   2.40849673]]),\n",
       " array([[ 30.22727273,  12.46969697],\n",
       "        [ 58.72727273,  38.77922078],\n",
       "        [ 41.95454545, 121.37878788],\n",
       "        [  2.45454545,   1.78354978],\n",
       "        [  6.54545455,   8.16450216],\n",
       "        [ 38.36363636,   5.0995671 ]])]"
      ]
     },
     "execution_count": 33,
     "metadata": {},
     "output_type": "execute_result"
    }
   ],
   "source": [
    "#separate mean variance by class\n",
    "s = np.vsplit(mean_var2, n_class)\n",
    "s"
   ]
  },
  {
   "cell_type": "code",
   "execution_count": 34,
   "metadata": {},
   "outputs": [
    {
     "name": "stdout",
     "output_type": "stream",
     "text": [
      "[29.714285714285715, 16.238095238095234, 29]\n",
      "[58.142857142857146, 44.80952380952382, 58]\n",
      "[39.285714285714285, 75.90476190476191, 57]\n",
      "[3.142857142857143, 1.4761904761904763, 1]\n",
      "[7.857142857142857, 11.142857142857144, 9]\n",
      "[7.571428571428571, 12.285714285714285, 12]\n",
      "[31.357142857142858, 10.401098901098909, 29]\n",
      "[61.142857142857146, 24.5934065934066, 58]\n",
      "[45.214285714285715, 187.56593406593404, 57]\n",
      "[2.857142857142857, 2.131868131868132, 1]\n",
      "[5.571428571428571, 9.802197802197801, 9]\n",
      "[8.214285714285714, 1.71978021978022, 12]\n",
      "[29.0, 12.999999999999998, 29]\n",
      "[57.57142857142857, 43.285714285714306, 58]\n",
      "[47.142857142857146, 160.47619047619045, 57]\n",
      "[3.5714285714285716, 1.9523809523809526, 1]\n",
      "[5.285714285714286, 12.904761904761907, 9]\n",
      "[12.142857142857142, 3.1428571428571423, 12]\n",
      "[29.142857142857142, 11.054945054945053, 29]\n",
      "[57.57142857142857, 31.34065934065935, 58]\n",
      "[45.285714285714285, 140.37362637362642, 57]\n",
      "[2.7142857142857144, 2.3736263736263736, 1]\n",
      "[7.071428571428571, 5.609890109890109, 9]\n",
      "[11.214285714285714, 3.5659340659340653, 12]\n",
      "[29.529411764705884, 10.38970588235294, 29]\n",
      "[58.11764705882353, 29.98529411764705, 58]\n",
      "[41.94117647058823, 60.18382352941175, 57]\n",
      "[3.3529411764705883, 2.1176470588235294, 1]\n",
      "[6.294117647058823, 11.970588235294116, 9]\n",
      "[22.647058823529413, 1.3676470588235292, 12]\n",
      "[31.833333333333332, 12.85294117647059, 29]\n",
      "[61.333333333333336, 33.52941176470588, 58]\n",
      "[42.611111111111114, 168.01633986928113, 57]\n",
      "[3.4444444444444446, 1.6732026143790846, 1]\n",
      "[4.944444444444445, 10.996732026143789, 9]\n",
      "[12.944444444444445, 2.4084967320261446, 12]\n",
      "[30.227272727272727, 12.469696969696976, 29]\n",
      "[58.72727272727273, 38.779220779220786, 58]\n",
      "[41.95454545454545, 121.37878787878786, 57]\n",
      "[2.4545454545454546, 1.7835497835497838, 1]\n",
      "[6.545454545454546, 8.164502164502164, 9]\n",
      "[38.36363636363637, 5.099567099567109, 12]\n"
     ]
    }
   ],
   "source": [
    "sample = [29, 58, 57, 1, 9, 12]\n",
    "\n",
    "#combine \n",
    "\n",
    "for i in range(n_class):\n",
    "    #first class\n",
    "    class_one = s[i]\n",
    "    for i in range(len(class_one)):\n",
    "        #first row/value in class one\n",
    "        class_one_x_mean = class_one[i][0]\n",
    "        class_one_x_var = class_one[i][1]\n",
    "        x_values = sample[i]\n",
    "        print([class_one_x_mean, class_one_x_var, x_values])"
   ]
  },
  {
   "cell_type": "code",
   "execution_count": 35,
   "metadata": {},
   "outputs": [
    {
     "data": {
      "text/plain": [
       "2.718281828459045"
      ]
     },
     "execution_count": 35,
     "metadata": {},
     "output_type": "execute_result"
    }
   ],
   "source": [
    "np.e"
   ]
  },
  {
   "cell_type": "code",
   "execution_count": 36,
   "metadata": {},
   "outputs": [],
   "source": [
    "#building the equation\n",
    "def gnb(x_val, x_mean, x_var):\n",
    "    \"\"\"GNB = Gausian Naive Bayes\n",
    "      x_val = x from sample\n",
    "      x_mean = mean for the class and feature in question\n",
    "      x_var = variance for the class and feature in question\n",
    "      x_mean and x_var need to corresnpond to the right x_val feature\n",
    "    \"\"\"\n",
    "    \n",
    "    #variance\n",
    "    variance = x_var\n",
    "    \n",
    "    #mean\n",
    "    mean = x_mean\n",
    "    \n",
    "    #natural log\n",
    "    e = np.e\n",
    "    \n",
    "    #pi\n",
    "    pi = np.pi\n",
    "    \n",
    "    #first part equation\n",
    "    equation_1 = 1/(np.sqrt(2 * pi * variance))\n",
    "    \n",
    "    #second part equation\n",
    "    \n",
    "    #denominator\n",
    "    denom = 2 * variance\n",
    "    \n",
    "    #numerator calc\n",
    "    numerator = (x_val - mean) ** 2\n",
    "    \n",
    "    #exponent\n",
    "    expo = np.exp(-(numerator/denom))\n",
    "    \n",
    "    #probability\n",
    "    prob = equation_1 * expo\n",
    "    \n",
    "    return prob"
   ]
  },
  {
   "cell_type": "code",
   "execution_count": 37,
   "metadata": {},
   "outputs": [],
   "source": [
    "prob = []\n",
    "\n",
    "for i in range(n_class):\n",
    "    #first class\n",
    "    class_one = s[i]\n",
    "    for i in range(len(class_one)):\n",
    "        #first row/value in class one\n",
    "        class_one_x_mean = class_one[i][0]\n",
    "        class_one_x_var = class_one[i][1]\n",
    "        x_sample = sample[i]\n",
    "        prob.append([gnb(x_sample, class_one_x_mean, class_one_x_var)])"
   ]
  },
  {
   "cell_type": "code",
   "execution_count": 38,
   "metadata": {},
   "outputs": [
    {
     "data": {
      "text/plain": [
       "[[0.0974584983699923],\n",
       " [0.05958349901522936],\n",
       " [0.005795257620995652],\n",
       " [0.06932356025423449],\n",
       " [0.11270900816744109],\n",
       " [0.05123512923797086],\n",
       " [0.09470511052281971],\n",
       " [0.0658092560936892],\n",
       " [0.02011515626939535],\n",
       " [0.12168153433974714],\n",
       " [0.069958191668588],\n",
       " [0.0047162490600498284],\n",
       " [0.11064668061060755],\n",
       " [0.06050849550899817],\n",
       " [0.023266387990788315],\n",
       " [0.052505196221438274],\n",
       " [0.0650717398823302],\n",
       " [0.22430435120494258],\n",
       " [0.1198756302172873],\n",
       " [0.07105316031968872],\n",
       " [0.02065339913528099],\n",
       " [0.1394295807261511],\n",
       " [0.12091023996183399],\n",
       " [0.19374483070057064],\n",
       " [0.12210981947654304],\n",
       " [0.07283760830707306],\n",
       " [0.007815837869353458],\n",
       " [0.07417850410360752],\n",
       " [0.08492477581519098],\n",
       " [3.422057849036454e-19],\n",
       " [0.08142944956458277],\n",
       " [0.05837648937568808],\n",
       " [0.016620804766794707],\n",
       " [0.05172062853383268],\n",
       " [0.05695038570538828],\n",
       " [0.21360803617472998],\n",
       " [0.10635384253635824],\n",
       " [0.06362807244338689],\n",
       " [0.014251787122570985],\n",
       " [0.1650747339061035],\n",
       " [0.09653987909396979],\n",
       " [4.479587303211199e-31]]"
      ]
     },
     "execution_count": 38,
     "metadata": {},
     "output_type": "execute_result"
    }
   ],
   "source": [
    "prob"
   ]
  },
  {
   "cell_type": "code",
   "execution_count": 39,
   "metadata": {},
   "outputs": [
    {
     "data": {
      "text/plain": [
       "[array([[0.0974585 ],\n",
       "        [0.0595835 ],\n",
       "        [0.00579526],\n",
       "        [0.06932356],\n",
       "        [0.11270901],\n",
       "        [0.05123513]]),\n",
       " array([[0.09470511],\n",
       "        [0.06580926],\n",
       "        [0.02011516],\n",
       "        [0.12168153],\n",
       "        [0.06995819],\n",
       "        [0.00471625]]),\n",
       " array([[0.11064668],\n",
       "        [0.0605085 ],\n",
       "        [0.02326639],\n",
       "        [0.0525052 ],\n",
       "        [0.06507174],\n",
       "        [0.22430435]]),\n",
       " array([[0.11987563],\n",
       "        [0.07105316],\n",
       "        [0.0206534 ],\n",
       "        [0.13942958],\n",
       "        [0.12091024],\n",
       "        [0.19374483]]),\n",
       " array([[1.22109819e-01],\n",
       "        [7.28376083e-02],\n",
       "        [7.81583787e-03],\n",
       "        [7.41785041e-02],\n",
       "        [8.49247758e-02],\n",
       "        [3.42205785e-19]]),\n",
       " array([[0.08142945],\n",
       "        [0.05837649],\n",
       "        [0.0166208 ],\n",
       "        [0.05172063],\n",
       "        [0.05695039],\n",
       "        [0.21360804]]),\n",
       " array([[1.06353843e-01],\n",
       "        [6.36280724e-02],\n",
       "        [1.42517871e-02],\n",
       "        [1.65074734e-01],\n",
       "        [9.65398791e-02],\n",
       "        [4.47958730e-31]])]"
      ]
     },
     "execution_count": 39,
     "metadata": {},
     "output_type": "execute_result"
    }
   ],
   "source": [
    "b = np.array(prob)\n",
    "prob_s = np.vsplit(b, n_class)\n",
    "\n",
    "prob_s"
   ]
  },
  {
   "cell_type": "code",
   "execution_count": 40,
   "metadata": {},
   "outputs": [],
   "source": [
    "final_prob = []\n",
    "\n",
    "for i in prob_s:\n",
    "    class_prob = np.prod(i)\n",
    "    final_prob.append(class_prob)"
   ]
  },
  {
   "cell_type": "code",
   "execution_count": 41,
   "metadata": {},
   "outputs": [
    {
     "data": {
      "text/plain": [
       "[1.3471805015702742e-08,\n",
       " 5.033195406759877e-09,\n",
       " 1.1937575017508392e-07,\n",
       " 5.745845832525619e-07,\n",
       " 1.4985858754882797e-25,\n",
       " 4.971066493403125e-08,\n",
       " 6.884884207504489e-37]"
      ]
     },
     "execution_count": 41,
     "metadata": {},
     "output_type": "execute_result"
    }
   ],
   "source": [
    "final_prob"
   ]
  },
  {
   "cell_type": "code",
   "execution_count": 42,
   "metadata": {},
   "outputs": [
    {
     "data": {
      "text/plain": [
       "5.745845832525619e-07"
      ]
     },
     "execution_count": 42,
     "metadata": {},
     "output_type": "execute_result"
    }
   ],
   "source": [
    "maxi_prob = max(final_prob)\n",
    "maxi_prob"
   ]
  },
  {
   "cell_type": "code",
   "execution_count": 43,
   "metadata": {},
   "outputs": [
    {
     "data": {
      "text/plain": [
       "3"
      ]
     },
     "execution_count": 43,
     "metadata": {},
     "output_type": "execute_result"
    }
   ],
   "source": [
    "prob_index = final_prob.index(maxi_prob)\n",
    "prob_index"
   ]
  },
  {
   "cell_type": "code",
   "execution_count": 44,
   "metadata": {},
   "outputs": [
    {
     "data": {
      "text/plain": [
       "array(['10-26-26', '14-35-14', '17-17-17', '20-20', '28-28', 'DAP',\n",
       "       'Urea'], dtype=object)"
      ]
     },
     "execution_count": 44,
     "metadata": {},
     "output_type": "execute_result"
    }
   ],
   "source": [
    "classes = np.unique(y)\n",
    "classes"
   ]
  },
  {
   "cell_type": "code",
   "execution_count": 45,
   "metadata": {},
   "outputs": [
    {
     "data": {
      "text/plain": [
       "'20-20'"
      ]
     },
     "execution_count": 45,
     "metadata": {},
     "output_type": "execute_result"
    }
   ],
   "source": [
    "pred = classes[prob_index]\n",
    "pred"
   ]
  },
  {
   "cell_type": "code",
   "execution_count": 46,
   "metadata": {},
   "outputs": [],
   "source": [
    "from sklearn import metrics\n",
    "from sklearn.naive_bayes import GaussianNB"
   ]
  },
  {
   "cell_type": "code",
   "execution_count": 47,
   "metadata": {},
   "outputs": [],
   "source": [
    "skngb = GaussianNB()"
   ]
  },
  {
   "cell_type": "code",
   "execution_count": 48,
   "metadata": {},
   "outputs": [
    {
     "data": {
      "text/plain": [
       "GaussianNB(priors=None, var_smoothing=1e-09)"
      ]
     },
     "execution_count": 48,
     "metadata": {},
     "output_type": "execute_result"
    }
   ],
   "source": [
    "skngb.fit(X, y)"
   ]
  },
  {
   "cell_type": "code",
   "execution_count": 49,
   "metadata": {},
   "outputs": [
    {
     "data": {
      "text/plain": [
       "array([[29, 58, 57,  1,  9, 12]])"
      ]
     },
     "execution_count": 49,
     "metadata": {},
     "output_type": "execute_result"
    }
   ],
   "source": [
    "sample_2 = np.array(sample)\n",
    "sample_re = sample_2.reshape(1, -1)\n",
    "sample_re"
   ]
  },
  {
   "cell_type": "code",
   "execution_count": 50,
   "metadata": {},
   "outputs": [
    {
     "data": {
      "text/plain": [
       "array(['20-20'], dtype='<U8')"
      ]
     },
     "execution_count": 50,
     "metadata": {},
     "output_type": "execute_result"
    }
   ],
   "source": [
    "skngb.predict(sample_re)"
   ]
  },
  {
   "cell_type": "code",
   "execution_count": 51,
   "metadata": {},
   "outputs": [],
   "source": [
    "expected = y\n",
    "predicted = skngb.predict(X)"
   ]
  },
  {
   "cell_type": "code",
   "execution_count": 52,
   "metadata": {},
   "outputs": [
    {
     "name": "stdout",
     "output_type": "stream",
     "text": [
      "              precision    recall  f1-score   support\n",
      "\n",
      "    10-26-26       1.00      0.57      0.73         7\n",
      "    14-35-14       0.80      0.86      0.83        14\n",
      "    17-17-17       0.50      0.29      0.36         7\n",
      "       20-20       0.50      0.57      0.53        14\n",
      "       28-28       1.00      1.00      1.00        17\n",
      "         DAP       0.62      0.72      0.67        18\n",
      "        Urea       1.00      1.00      1.00        22\n",
      "\n",
      "    accuracy                           0.79        99\n",
      "   macro avg       0.77      0.72      0.73        99\n",
      "weighted avg       0.80      0.79      0.78        99\n",
      "\n"
     ]
    }
   ],
   "source": [
    "print(metrics.classification_report(expected, predicted))"
   ]
  },
  {
   "cell_type": "code",
   "execution_count": 53,
   "metadata": {},
   "outputs": [
    {
     "name": "stdout",
     "output_type": "stream",
     "text": [
      "[[ 4  1  0  0  0  2  0]\n",
      " [ 0 12  0  2  0  0  0]\n",
      " [ 0  0  2  2  0  3  0]\n",
      " [ 0  2  1  8  0  3  0]\n",
      " [ 0  0  0  0 17  0  0]\n",
      " [ 0  0  1  4  0 13  0]\n",
      " [ 0  0  0  0  0  0 22]]\n"
     ]
    }
   ],
   "source": [
    "print(metrics.confusion_matrix(expected, predicted))"
   ]
  },
  {
   "cell_type": "code",
   "execution_count": null,
   "metadata": {},
   "outputs": [],
   "source": []
  }
 ],
 "metadata": {
  "kernelspec": {
   "display_name": "Python 3",
   "language": "python",
   "name": "python3"
  },
  "language_info": {
   "codemirror_mode": {
    "name": "ipython",
    "version": 3
   },
   "file_extension": ".py",
   "mimetype": "text/x-python",
   "name": "python",
   "nbconvert_exporter": "python",
   "pygments_lexer": "ipython3",
   "version": "3.7.7"
  }
 },
 "nbformat": 4,
 "nbformat_minor": 4
}
